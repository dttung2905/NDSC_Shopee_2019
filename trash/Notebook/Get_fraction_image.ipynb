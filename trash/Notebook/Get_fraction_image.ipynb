{
 "cells": [
  {
   "cell_type": "code",
   "execution_count": 1,
   "metadata": {},
   "outputs": [],
   "source": [
    "import pandas as pd\n",
    "import numpy as np\n",
    "import os\n",
    "import shutil"
   ]
  },
  {
   "cell_type": "code",
   "execution_count": 2,
   "metadata": {},
   "outputs": [
    {
     "name": "stdout",
     "output_type": "stream",
     "text": [
      "{'Beauty': {'BB & CC Cream': 5,\n",
      "            'Blush On': 2,\n",
      "            'Bronzer': 11,\n",
      "            'Concealer': 7,\n",
      "            'Contour': 6,\n",
      "            'Face Palette': 0,\n",
      "            'Foundation': 1,\n",
      "            'Highlighter': 8,\n",
      "            'Lip Gloss': 14,\n",
      "            'Lip Liner': 15,\n",
      "            'Lip Tint': 13,\n",
      "            'Lipstick': 12,\n",
      "            'Other Face Cosmetics': 4,\n",
      "            'Other Lip Cosmetics': 16,\n",
      "            'Powder': 3,\n",
      "            'Primer': 9,\n",
      "            'Setting Spray': 10},\n",
      " 'Fashion': {'A Line Dress': 21,\n",
      "             'Big Size Dress': 24,\n",
      "             'Big Size Top': 30,\n",
      "             'Blouse\\xa0': 26,\n",
      "             'Bodycon Dress': 22,\n",
      "             'Casual Dress': 18,\n",
      "             'Crop Top ': 29,\n",
      "             'Maxi Dress': 20,\n",
      "             'Others': 17,\n",
      "             'Party Dress': 19,\n",
      "             'Shirt': 27,\n",
      "             'Tanktop': 28,\n",
      "             'Tshirt': 25,\n",
      "             'Wedding Dress': 23},\n",
      " 'Mobile': {'Advan': 45,\n",
      "            'Alcatel': 55,\n",
      "            'Asus': 43,\n",
      "            'Blackberry': 36,\n",
      "            'Brandcode': 39,\n",
      "            'Evercoss': 44,\n",
      "            'Honor': 54,\n",
      "            'Huawei': 47,\n",
      "            'Icherry': 52,\n",
      "            'Infinix': 40,\n",
      "            'Iphone': 31,\n",
      "            'Lenovo': 37,\n",
      "            'Maxtron': 56,\n",
      "            'Mito': 46,\n",
      "            'Motorola': 49,\n",
      "            'Nokia': 38,\n",
      "            'Oppo': 41,\n",
      "            'Others Mobile & Tablet': 35,\n",
      "            'Realme': 51,\n",
      "            'SPC': 57,\n",
      "            'Samsung': 32,\n",
      "            'Sharp': 48,\n",
      "            'Smartfren': 53,\n",
      "            'Sony': 33,\n",
      "            'Strawberry': 50,\n",
      "            'Vivo': 42,\n",
      "            'Xiaomi': 34}}\n"
     ]
    }
   ],
   "source": [
    "import json\n",
    "from pprint import pprint\n",
    "\n",
    "with open('../data/categories.json') as f:\n",
    "    data = json.load(f)\n",
    "\n",
    "pprint(data)"
   ]
  },
  {
   "cell_type": "code",
   "execution_count": 3,
   "metadata": {},
   "outputs": [],
   "source": [
    "train = pd.read_csv('../data/train.csv')"
   ]
  },
  {
   "cell_type": "code",
   "execution_count": 4,
   "metadata": {},
   "outputs": [
    {
     "data": {
      "text/html": [
       "<div>\n",
       "<style scoped>\n",
       "    .dataframe tbody tr th:only-of-type {\n",
       "        vertical-align: middle;\n",
       "    }\n",
       "\n",
       "    .dataframe tbody tr th {\n",
       "        vertical-align: top;\n",
       "    }\n",
       "\n",
       "    .dataframe thead th {\n",
       "        text-align: right;\n",
       "    }\n",
       "</style>\n",
       "<table border=\"1\" class=\"dataframe\">\n",
       "  <thead>\n",
       "    <tr style=\"text-align: right;\">\n",
       "      <th></th>\n",
       "      <th>itemid</th>\n",
       "      <th>title</th>\n",
       "      <th>Category</th>\n",
       "      <th>image_path</th>\n",
       "    </tr>\n",
       "  </thead>\n",
       "  <tbody>\n",
       "    <tr>\n",
       "      <th>286583</th>\n",
       "      <td>2282553</td>\n",
       "      <td>retro floral dress</td>\n",
       "      <td>17</td>\n",
       "      <td>fashion_image/78d17fdb159bba51a4250dc3d583245e</td>\n",
       "    </tr>\n",
       "  </tbody>\n",
       "</table>\n",
       "</div>"
      ],
      "text/plain": [
       "         itemid               title  Category  \\\n",
       "286583  2282553  retro floral dress        17   \n",
       "\n",
       "                                            image_path  \n",
       "286583  fashion_image/78d17fdb159bba51a4250dc3d583245e  "
      ]
     },
     "execution_count": 4,
     "metadata": {},
     "output_type": "execute_result"
    }
   ],
   "source": [
    "train[train['image_path']=='fashion_image/78d17fdb159bba51a4250dc3d583245e']"
   ]
  },
  {
   "cell_type": "code",
   "execution_count": 5,
   "metadata": {},
   "outputs": [
    {
     "data": {
      "text/plain": [
       "{'Wedding Dress': 23,\n",
       " 'Shirt': 27,\n",
       " 'Casual Dress': 18,\n",
       " 'Maxi Dress': 20,\n",
       " 'Big Size Dress': 24,\n",
       " 'Bodycon Dress': 22,\n",
       " 'Party Dress': 19,\n",
       " 'Blouse\\xa0': 26,\n",
       " 'Tshirt': 25,\n",
       " 'Crop Top ': 29,\n",
       " 'Tanktop': 28,\n",
       " 'Others': 17,\n",
       " 'A Line Dress': 21,\n",
       " 'Big Size Top': 30}"
      ]
     },
     "execution_count": 5,
     "metadata": {},
     "output_type": "execute_result"
    }
   ],
   "source": [
    "data['Fashion']"
   ]
  },
  {
   "cell_type": "code",
   "execution_count": 6,
   "metadata": {},
   "outputs": [],
   "source": [
    "beauty_cat = [data['Beauty'][x] for x in data['Beauty']]\n",
    "beauty_df = train[train['Category'].isin(beauty_cat)] #filter out those with \n",
    "# beauty_df['Category'].value_counts()\n",
    "sample_beauty_df = beauty_df.groupby('Category').head(200).reset_index(drop=True)\n",
    "sample_filename_beauty = sample_beauty_df['image_path'].values.tolist() #get the sample of the name of all file"
   ]
  },
  {
   "cell_type": "code",
   "execution_count": 7,
   "metadata": {},
   "outputs": [],
   "source": [
    "mobile_cat = [data['Mobile'][x] for x in data['Mobile']]\n",
    "mobile_df = train[train['Category'].isin(mobile_cat)] #filter out those with \n",
    "mobile_df['Category'].value_counts()\n",
    "sample_mobile_df = mobile_df.groupby('Category').head(200).reset_index(drop=True)\n",
    "sample_filename_mobile = sample_mobile_df['image_path'].values.tolist() #get the sample of the name of all file"
   ]
  },
  {
   "cell_type": "code",
   "execution_count": 8,
   "metadata": {},
   "outputs": [
    {
     "data": {
      "text/plain": [
       "'mobile_image/a9c8f0fdd6587deed197634066cf7eee.jpg'"
      ]
     },
     "execution_count": 8,
     "metadata": {},
     "output_type": "execute_result"
    }
   ],
   "source": [
    "sample_filename_mobile[0]"
   ]
  },
  {
   "cell_type": "code",
   "execution_count": 9,
   "metadata": {},
   "outputs": [],
   "source": [
    "fashion_cat = [data['Fashion'][x] for x in data['Fashion']]\n",
    "fashion_df = train[train['Category'].isin(fashion_cat)] #filter out those with \n",
    "fashion_df['Category'].value_counts()\n",
    "sample_fashion_df = fashion_df.groupby('Category').head(200).reset_index(drop=True)\n",
    "sample_filename_fashion = sample_fashion_df['image_path'].values.tolist() #get the sample of the name of all file"
   ]
  },
  {
   "cell_type": "code",
   "execution_count": 10,
   "metadata": {},
   "outputs": [],
   "source": [
    "# sample_filename_fashion[0]"
   ]
  },
  {
   "cell_type": "code",
   "execution_count": 11,
   "metadata": {},
   "outputs": [],
   "source": [
    "# for file in sample_filename:\n",
    "#     shutil.copy('../'+file, '../sample/beauty/')"
   ]
  },
  {
   "cell_type": "code",
   "execution_count": 12,
   "metadata": {},
   "outputs": [],
   "source": [
    "# for file in sample_filename_fashion:\n",
    "#     shutil.copy('../'+file+'.jpg', '../sample/fashion/')"
   ]
  },
  {
   "cell_type": "code",
   "execution_count": 13,
   "metadata": {},
   "outputs": [],
   "source": [
    "# for file in sample_filename_mobile:\n",
    "#     shutil.copy('../'+file, '../sample/mobile/')"
   ]
  },
  {
   "cell_type": "code",
   "execution_count": 14,
   "metadata": {},
   "outputs": [
    {
     "data": {
      "text/html": [
       "<div>\n",
       "<style scoped>\n",
       "    .dataframe tbody tr th:only-of-type {\n",
       "        vertical-align: middle;\n",
       "    }\n",
       "\n",
       "    .dataframe tbody tr th {\n",
       "        vertical-align: top;\n",
       "    }\n",
       "\n",
       "    .dataframe thead th {\n",
       "        text-align: right;\n",
       "    }\n",
       "</style>\n",
       "<table border=\"1\" class=\"dataframe\">\n",
       "  <thead>\n",
       "    <tr style=\"text-align: right;\">\n",
       "      <th></th>\n",
       "      <th>itemid</th>\n",
       "      <th>title</th>\n",
       "      <th>Category</th>\n",
       "      <th>image_path</th>\n",
       "    </tr>\n",
       "  </thead>\n",
       "  <tbody>\n",
       "    <tr>\n",
       "      <th>0</th>\n",
       "      <td>2282553</td>\n",
       "      <td>retro floral dress</td>\n",
       "      <td>17</td>\n",
       "      <td>fashion_image/78d17fdb159bba51a4250dc3d583245e</td>\n",
       "    </tr>\n",
       "    <tr>\n",
       "      <th>1</th>\n",
       "      <td>13822218</td>\n",
       "      <td>dress floral sifon</td>\n",
       "      <td>18</td>\n",
       "      <td>fashion_image/2f77dac9965bbfdb03cbd3724b3552c5</td>\n",
       "    </tr>\n",
       "    <tr>\n",
       "      <th>2</th>\n",
       "      <td>33555935</td>\n",
       "      <td>korean white chiffon collar dress</td>\n",
       "      <td>18</td>\n",
       "      <td>fashion_image/6dbe2e7cba5ddbb750d2144d8f248f11</td>\n",
       "    </tr>\n",
       "    <tr>\n",
       "      <th>3</th>\n",
       "      <td>65755120</td>\n",
       "      <td>women s trendy apricot o neck solid chiffon bl...</td>\n",
       "      <td>19</td>\n",
       "      <td>fashion_image/dc9b21429604148fc0342d12694f3294</td>\n",
       "    </tr>\n",
       "    <tr>\n",
       "      <th>4</th>\n",
       "      <td>65857438</td>\n",
       "      <td>big sale baju gamis pesta india aysilla pancar...</td>\n",
       "      <td>20</td>\n",
       "      <td>fashion_image/6c25c578dd8edce742a805f891f1a51f</td>\n",
       "    </tr>\n",
       "  </tbody>\n",
       "</table>\n",
       "</div>"
      ],
      "text/plain": [
       "     itemid                                              title  Category  \\\n",
       "0   2282553                                 retro floral dress        17   \n",
       "1  13822218                                 dress floral sifon        18   \n",
       "2  33555935                  korean white chiffon collar dress        18   \n",
       "3  65755120  women s trendy apricot o neck solid chiffon bl...        19   \n",
       "4  65857438  big sale baju gamis pesta india aysilla pancar...        20   \n",
       "\n",
       "                                       image_path  \n",
       "0  fashion_image/78d17fdb159bba51a4250dc3d583245e  \n",
       "1  fashion_image/2f77dac9965bbfdb03cbd3724b3552c5  \n",
       "2  fashion_image/6dbe2e7cba5ddbb750d2144d8f248f11  \n",
       "3  fashion_image/dc9b21429604148fc0342d12694f3294  \n",
       "4  fashion_image/6c25c578dd8edce742a805f891f1a51f  "
      ]
     },
     "execution_count": 14,
     "metadata": {},
     "output_type": "execute_result"
    }
   ],
   "source": [
    "sample_fashion_df.head()\n"
   ]
  },
  {
   "cell_type": "code",
   "execution_count": 16,
   "metadata": {},
   "outputs": [
    {
     "data": {
      "text/plain": [
       "(11286, 4)"
      ]
     },
     "execution_count": 16,
     "metadata": {},
     "output_type": "execute_result"
    }
   ],
   "source": [
    "sample_merge = pd.concat([sample_beauty_df,sample_fashion_df,sample_mobile_df])\n",
    "sample_merge.shape"
   ]
  },
  {
   "cell_type": "code",
   "execution_count": 17,
   "metadata": {},
   "outputs": [],
   "source": [
    "sample_merge.to_csv('sample_image.csv',index = False )"
   ]
  },
  {
   "cell_type": "code",
   "execution_count": null,
   "metadata": {},
   "outputs": [],
   "source": []
  }
 ],
 "metadata": {
  "kernelspec": {
   "display_name": "Python 3",
   "language": "python",
   "name": "python3"
  },
  "language_info": {
   "codemirror_mode": {
    "name": "ipython",
    "version": 3
   },
   "file_extension": ".py",
   "mimetype": "text/x-python",
   "name": "python",
   "nbconvert_exporter": "python",
   "pygments_lexer": "ipython3",
   "version": "3.7.0"
  }
 },
 "nbformat": 4,
 "nbformat_minor": 2
}
