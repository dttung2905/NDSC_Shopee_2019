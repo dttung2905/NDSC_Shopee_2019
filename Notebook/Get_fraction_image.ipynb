{
 "cells": [
  {
   "cell_type": "code",
   "execution_count": 1,
   "metadata": {},
   "outputs": [],
   "source": [
    "import pandas as pd\n",
    "import numpy as np"
   ]
  },
  {
   "cell_type": "code",
   "execution_count": 2,
   "metadata": {},
   "outputs": [
    {
     "name": "stdout",
     "output_type": "stream",
     "text": [
      "{'Beauty': {'BB & CC Cream': 5,\n",
      "            'Blush On': 2,\n",
      "            'Bronzer': 11,\n",
      "            'Concealer': 7,\n",
      "            'Contour': 6,\n",
      "            'Face Palette': 0,\n",
      "            'Foundation': 1,\n",
      "            'Highlighter': 8,\n",
      "            'Lip Gloss': 14,\n",
      "            'Lip Liner': 15,\n",
      "            'Lip Tint': 13,\n",
      "            'Lipstick': 12,\n",
      "            'Other Face Cosmetics': 4,\n",
      "            'Other Lip Cosmetics': 16,\n",
      "            'Powder': 3,\n",
      "            'Primer': 9,\n",
      "            'Setting Spray': 10},\n",
      " 'Fashion': {'A Line Dress': 21,\n",
      "             'Big Size Dress': 24,\n",
      "             'Big Size Top': 30,\n",
      "             'Blouse\\xa0': 26,\n",
      "             'Bodycon Dress': 22,\n",
      "             'Casual Dress': 18,\n",
      "             'Crop Top ': 29,\n",
      "             'Maxi Dress': 20,\n",
      "             'Others': 17,\n",
      "             'Party Dress': 19,\n",
      "             'Shirt': 27,\n",
      "             'Tanktop': 28,\n",
      "             'Tshirt': 25,\n",
      "             'Wedding Dress': 23},\n",
      " 'Mobile': {'Advan': 45,\n",
      "            'Alcatel': 55,\n",
      "            'Asus': 43,\n",
      "            'Blackberry': 36,\n",
      "            'Brandcode': 39,\n",
      "            'Evercoss': 44,\n",
      "            'Honor': 54,\n",
      "            'Huawei': 47,\n",
      "            'Icherry': 52,\n",
      "            'Infinix': 40,\n",
      "            'Iphone': 31,\n",
      "            'Lenovo': 37,\n",
      "            'Maxtron': 56,\n",
      "            'Mito': 46,\n",
      "            'Motorola': 49,\n",
      "            'Nokia': 38,\n",
      "            'Oppo': 41,\n",
      "            'Others Mobile & Tablet': 35,\n",
      "            'Realme': 51,\n",
      "            'SPC': 57,\n",
      "            'Samsung': 32,\n",
      "            'Sharp': 48,\n",
      "            'Smartfren': 53,\n",
      "            'Sony': 33,\n",
      "            'Strawberry': 50,\n",
      "            'Vivo': 42,\n",
      "            'Xiaomi': 34}}\n"
     ]
    }
   ],
   "source": [
    "import json\n",
    "from pprint import pprint\n",
    "\n",
    "with open('../data/categories.json') as f:\n",
    "    data = json.load(f)\n",
    "\n",
    "pprint(data)"
   ]
  },
  {
   "cell_type": "code",
   "execution_count": 3,
   "metadata": {},
   "outputs": [],
   "source": [
    "train = pd.read_csv('../data/train.csv')"
   ]
  },
  {
   "cell_type": "code",
   "execution_count": 5,
   "metadata": {},
   "outputs": [
    {
     "data": {
      "text/html": [
       "<div>\n",
       "<style scoped>\n",
       "    .dataframe tbody tr th:only-of-type {\n",
       "        vertical-align: middle;\n",
       "    }\n",
       "\n",
       "    .dataframe tbody tr th {\n",
       "        vertical-align: top;\n",
       "    }\n",
       "\n",
       "    .dataframe thead th {\n",
       "        text-align: right;\n",
       "    }\n",
       "</style>\n",
       "<table border=\"1\" class=\"dataframe\">\n",
       "  <thead>\n",
       "    <tr style=\"text-align: right;\">\n",
       "      <th></th>\n",
       "      <th>itemid</th>\n",
       "      <th>title</th>\n",
       "      <th>Category</th>\n",
       "      <th>image_path</th>\n",
       "    </tr>\n",
       "  </thead>\n",
       "  <tbody>\n",
       "    <tr>\n",
       "      <th>0</th>\n",
       "      <td>307504</td>\n",
       "      <td>nyx sex bomb pallete natural palette</td>\n",
       "      <td>0</td>\n",
       "      <td>beauty_image/6b2e9cbb279ac95703348368aa65da09.jpg</td>\n",
       "    </tr>\n",
       "    <tr>\n",
       "      <th>1</th>\n",
       "      <td>461203</td>\n",
       "      <td>etude house precious mineral any cushion pearl...</td>\n",
       "      <td>1</td>\n",
       "      <td>beauty_image/20450222d857c9571ba8fa23bdedc8c9.jpg</td>\n",
       "    </tr>\n",
       "    <tr>\n",
       "      <th>2</th>\n",
       "      <td>3592295</td>\n",
       "      <td>milani rose powder blush</td>\n",
       "      <td>2</td>\n",
       "      <td>beauty_image/6a5962bed605a3dd6604ca3a4278a4f9.jpg</td>\n",
       "    </tr>\n",
       "    <tr>\n",
       "      <th>3</th>\n",
       "      <td>4460167</td>\n",
       "      <td>etude house baby sweet sugar powder</td>\n",
       "      <td>3</td>\n",
       "      <td>beauty_image/56987ae186e8a8e71fcc5a261ca485da.jpg</td>\n",
       "    </tr>\n",
       "    <tr>\n",
       "      <th>4</th>\n",
       "      <td>5853995</td>\n",
       "      <td>bedak revlon color stay aqua mineral make up</td>\n",
       "      <td>3</td>\n",
       "      <td>beauty_image/9c6968066ebab57588c2f757a240d8b9.jpg</td>\n",
       "    </tr>\n",
       "  </tbody>\n",
       "</table>\n",
       "</div>"
      ],
      "text/plain": [
       "    itemid                                              title  Category  \\\n",
       "0   307504               nyx sex bomb pallete natural palette         0   \n",
       "1   461203  etude house precious mineral any cushion pearl...         1   \n",
       "2  3592295                           milani rose powder blush         2   \n",
       "3  4460167                etude house baby sweet sugar powder         3   \n",
       "4  5853995       bedak revlon color stay aqua mineral make up         3   \n",
       "\n",
       "                                          image_path  \n",
       "0  beauty_image/6b2e9cbb279ac95703348368aa65da09.jpg  \n",
       "1  beauty_image/20450222d857c9571ba8fa23bdedc8c9.jpg  \n",
       "2  beauty_image/6a5962bed605a3dd6604ca3a4278a4f9.jpg  \n",
       "3  beauty_image/56987ae186e8a8e71fcc5a261ca485da.jpg  \n",
       "4  beauty_image/9c6968066ebab57588c2f757a240d8b9.jpg  "
      ]
     },
     "execution_count": 5,
     "metadata": {},
     "output_type": "execute_result"
    }
   ],
   "source": [
    "train.head()"
   ]
  },
  {
   "cell_type": "code",
   "execution_count": 6,
   "metadata": {},
   "outputs": [
    {
     "data": {
      "text/plain": [
       "{'Foundation': 1,\n",
       " 'Face Palette': 0,\n",
       " 'Concealer': 7,\n",
       " 'Lip Gloss': 14,\n",
       " 'Blush On': 2,\n",
       " 'Highlighter': 8,\n",
       " 'BB & CC Cream': 5,\n",
       " 'Other Face Cosmetics': 4,\n",
       " 'Lip Tint': 13,\n",
       " 'Bronzer': 11,\n",
       " 'Lip Liner': 15,\n",
       " 'Powder': 3,\n",
       " 'Setting Spray': 10,\n",
       " 'Primer': 9,\n",
       " 'Contour': 6,\n",
       " 'Other Lip Cosmetics': 16,\n",
       " 'Lipstick': 12}"
      ]
     },
     "execution_count": 6,
     "metadata": {},
     "output_type": "execute_result"
    }
   ],
   "source": [
    "data['Beauty']"
   ]
  },
  {
   "cell_type": "code",
   "execution_count": 13,
   "metadata": {},
   "outputs": [],
   "source": [
    "beauty_cat = [data['Beauty'][x] for x in data['Beauty']]"
   ]
  },
  {
   "cell_type": "code",
   "execution_count": null,
   "metadata": {},
   "outputs": [],
   "source": [
    "train[train['Category'].isin(beauty_cat)"
   ]
  }
 ],
 "metadata": {
  "kernelspec": {
   "display_name": "Python 3",
   "language": "python",
   "name": "python3"
  },
  "language_info": {
   "codemirror_mode": {
    "name": "ipython",
    "version": 3
   },
   "file_extension": ".py",
   "mimetype": "text/x-python",
   "name": "python",
   "nbconvert_exporter": "python",
   "pygments_lexer": "ipython3",
   "version": "3.7.0"
  }
 },
 "nbformat": 4,
 "nbformat_minor": 2
}
