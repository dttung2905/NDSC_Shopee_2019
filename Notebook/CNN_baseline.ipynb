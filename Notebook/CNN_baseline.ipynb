{
  "cells": [
    {
      "metadata": {
        "_uuid": "8f2839f25d086af736a60e9eeb907d3b93b6e0e5",
        "_cell_guid": "b1076dfc-b9ad-4769-8c92-a6c4dae69d19",
        "trusted": true
      },
      "cell_type": "code",
      "source": "# This Python 3 environment comes with many helpful analytics libraries installed\n# It is defined by the kaggle/python docker image: https://github.com/kaggle/docker-python\n# For example, here's several helpful packages to load in \n\nimport numpy as np # linear algebra\nimport pandas as pd # data processing, CSV file I/O (e.g. pd.read_csv)\n\n# Input data files are available in the \"../input/\" directory.\n# For example, running this (by clicking run or pressing Shift+Enter) will list the files in the input directory\n\nimport os\nprint(os.listdir(\"../input\"))\n\n# Any results you write to the current directory are saved as output.",
      "execution_count": 1,
      "outputs": [
        {
          "output_type": "stream",
          "text": "['ndsc-beginner', 'sample-ndsc2019']\n",
          "name": "stdout"
        }
      ]
    },
    {
      "metadata": {
        "_cell_guid": "79c7e3d0-c299-4dcb-8224-4455121ee9b0",
        "_uuid": "d629ff2d2480ee46fbb7e2d37f6b5fab8052498a",
        "trusted": true
      },
      "cell_type": "code",
      "source": "import pandas as pd\nimport numpy as np",
      "execution_count": 2,
      "outputs": []
    },
    {
      "metadata": {
        "trusted": true,
        "_uuid": "4b8daa134d8de27d46e3496c7df91b2ba21891ee"
      },
      "cell_type": "code",
      "source": "import json\nfrom pprint import pprint\n\nwith open('../input/ndsc-beginner/categories.json') as f:\n    data = json.load(f)\n\npprint(data)",
      "execution_count": 4,
      "outputs": [
        {
          "output_type": "stream",
          "text": "{'Beauty': {'BB & CC Cream': 5,\n            'Blush On': 2,\n            'Bronzer': 11,\n            'Concealer': 7,\n            'Contour': 6,\n            'Face Palette': 0,\n            'Foundation': 1,\n            'Highlighter': 8,\n            'Lip Gloss': 14,\n            'Lip Liner': 15,\n            'Lip Tint': 13,\n            'Lipstick': 12,\n            'Other Face Cosmetics': 4,\n            'Other Lip Cosmetics': 16,\n            'Powder': 3,\n            'Primer': 9,\n            'Setting Spray': 10},\n 'Fashion': {'A Line Dress': 21,\n             'Big Size Dress': 24,\n             'Big Size Top': 30,\n             'Blouse\\xa0': 26,\n             'Bodycon Dress': 22,\n             'Casual Dress': 18,\n             'Crop Top ': 29,\n             'Maxi Dress': 20,\n             'Others': 17,\n             'Party Dress': 19,\n             'Shirt': 27,\n             'Tanktop': 28,\n             'Tshirt': 25,\n             'Wedding Dress': 23},\n 'Mobile': {'Advan': 45,\n            'Alcatel': 55,\n            'Asus': 43,\n            'Blackberry': 36,\n            'Brandcode': 39,\n            'Evercoss': 44,\n            'Honor': 54,\n            'Huawei': 47,\n            'Icherry': 52,\n            'Infinix': 40,\n            'Iphone': 31,\n            'Lenovo': 37,\n            'Maxtron': 56,\n            'Mito': 46,\n            'Motorola': 49,\n            'Nokia': 38,\n            'Oppo': 41,\n            'Others Mobile & Tablet': 35,\n            'Realme': 51,\n            'SPC': 57,\n            'Samsung': 32,\n            'Sharp': 48,\n            'Smartfren': 53,\n            'Sony': 33,\n            'Strawberry': 50,\n            'Vivo': 42,\n            'Xiaomi': 34}}\n",
          "name": "stdout"
        }
      ]
    },
    {
      "metadata": {
        "trusted": true,
        "_uuid": "c658d8a717c8afce6f963e8602b1957c322e862f"
      },
      "cell_type": "code",
      "source": "train = pd.read_csv('../input/ndsc-beginner/train.csv')",
      "execution_count": 5,
      "outputs": []
    },
    {
      "metadata": {
        "trusted": true,
        "_uuid": "1cf3ca159ce852072c58fe17cb0cd52a234f37fd"
      },
      "cell_type": "code",
      "source": "train.head()",
      "execution_count": 6,
      "outputs": [
        {
          "output_type": "execute_result",
          "execution_count": 6,
          "data": {
            "text/plain": "    itemid                        ...                                                                 image_path\n0   307504                        ...                          beauty_image/6b2e9cbb279ac95703348368aa65da09.jpg\n1   461203                        ...                          beauty_image/20450222d857c9571ba8fa23bdedc8c9.jpg\n2  3592295                        ...                          beauty_image/6a5962bed605a3dd6604ca3a4278a4f9.jpg\n3  4460167                        ...                          beauty_image/56987ae186e8a8e71fcc5a261ca485da.jpg\n4  5853995                        ...                          beauty_image/9c6968066ebab57588c2f757a240d8b9.jpg\n\n[5 rows x 4 columns]",
            "text/html": "<div>\n<style scoped>\n    .dataframe tbody tr th:only-of-type {\n        vertical-align: middle;\n    }\n\n    .dataframe tbody tr th {\n        vertical-align: top;\n    }\n\n    .dataframe thead th {\n        text-align: right;\n    }\n</style>\n<table border=\"1\" class=\"dataframe\">\n  <thead>\n    <tr style=\"text-align: right;\">\n      <th></th>\n      <th>itemid</th>\n      <th>title</th>\n      <th>Category</th>\n      <th>image_path</th>\n    </tr>\n  </thead>\n  <tbody>\n    <tr>\n      <th>0</th>\n      <td>307504</td>\n      <td>nyx sex bomb pallete natural palette</td>\n      <td>0</td>\n      <td>beauty_image/6b2e9cbb279ac95703348368aa65da09.jpg</td>\n    </tr>\n    <tr>\n      <th>1</th>\n      <td>461203</td>\n      <td>etude house precious mineral any cushion pearl...</td>\n      <td>1</td>\n      <td>beauty_image/20450222d857c9571ba8fa23bdedc8c9.jpg</td>\n    </tr>\n    <tr>\n      <th>2</th>\n      <td>3592295</td>\n      <td>milani rose powder blush</td>\n      <td>2</td>\n      <td>beauty_image/6a5962bed605a3dd6604ca3a4278a4f9.jpg</td>\n    </tr>\n    <tr>\n      <th>3</th>\n      <td>4460167</td>\n      <td>etude house baby sweet sugar powder</td>\n      <td>3</td>\n      <td>beauty_image/56987ae186e8a8e71fcc5a261ca485da.jpg</td>\n    </tr>\n    <tr>\n      <th>4</th>\n      <td>5853995</td>\n      <td>bedak revlon color stay aqua mineral make up</td>\n      <td>3</td>\n      <td>beauty_image/9c6968066ebab57588c2f757a240d8b9.jpg</td>\n    </tr>\n  </tbody>\n</table>\n</div>"
          },
          "metadata": {}
        }
      ]
    },
    {
      "metadata": {
        "trusted": true,
        "_uuid": "629a10528554384b8bab31d8041a57598100a645"
      },
      "cell_type": "code",
      "source": "train['Category'].value_counts()",
      "execution_count": 7,
      "outputs": [
        {
          "output_type": "execute_result",
          "execution_count": 7,
          "data": {
            "text/plain": "3     81250\n18    56598\n5     55279\n4     42688\n25    33922\n26    33845\n35    30590\n32    29754\n1     28670\n31    27836\n12    21782\n20    19978\n41    19312\n27    16199\n22    15225\n34    14718\n19    13493\n7     11668\n2     11544\n42    10502\n21    10483\n9      8106\n28     6493\n43     6147\n8      6048\n33     4821\n38     4703\n24     4251\n11     4108\n0      3772\n29     3338\n13     2982\n17     2765\n14     2735\n37     2272\n16     2228\n45     2195\n6      2047\n23     1671\n30     1441\n10     1077\n36     1028\n47      945\n44      920\n39      697\n46      684\n15      599\n49      573\n53      418\n48      416\n51      404\n40      327\n54      300\n50      282\n56      170\n55      151\n52      117\n57       48\nName: Category, dtype: int64"
          },
          "metadata": {}
        }
      ]
    },
    {
      "metadata": {
        "trusted": true,
        "_uuid": "b5397adef61c68649f0bc334a2922faca2028439"
      },
      "cell_type": "code",
      "source": "from torchvision import transforms\n\n#image_transformation:\nimage_transforms = {\n    'train':\n    transforms.Compose([\n        transforms.RandomResizedCrop(size = 256 , scale=(0.8,1.0)),\n        transforms.RandomRotation(degrees = 15),\n        transforms.ColorJitter(),\n        transforms.RandomHorizontalFlip(),\n        transforms.CenterCrop(size=224),\n        transforms.ToTensor(),\n        transforms.Normalize([0.485, 0.456, 0.406],\n                             [0.229, 0.224, 0.225])        \n        \n    ]),\n    'valid':\n    transforms.Compose([\n        transforms.Resize(size = 256),\n        transforms.CenterCrop(size = 224),\n        transforms.ToTensor(),\n        transforms.Normalize([0.485, 0.456, 0.406], [0.229, 0.224, 0.225])\n    ])\n}",
      "execution_count": 9,
      "outputs": []
    },
    {
      "metadata": {
        "trusted": true,
        "_uuid": "c9b3c43ca16c2fec37a9db544565f039d42ec317"
      },
      "cell_type": "code",
      "source": "class ShopeeDataset(Dataset):\n    def __init__(self,csv_file, root_dir, transform = None):\n        self.shopee_frame =pd.read_csv(csv_file)\n        self.root_dir = root_dir\n        self.transform = transform\n    \n    def __len__(self):\n        return len(self.shopee_frame)\n    \n    def __getitem__(self,idx):\n        img_name = os.path.join(self.root_dir,\n                               self.shopee_frame.iloc[idx,0])\n        image = io.imread(img_name)\n        shopee = self.shopee_frame.iloc[idx,1:].as_matrix()\n        shopee = shopee.astype('float').reshape(-1,2)\n        sample = {'image':image , 'landmarks' : landmarks}\n        ",
      "execution_count": null,
      "outputs": []
    }
  ],
  "metadata": {
    "kernelspec": {
      "display_name": "Python 3",
      "language": "python",
      "name": "python3"
    },
    "language_info": {
      "name": "python",
      "version": "3.6.6",
      "mimetype": "text/x-python",
      "codemirror_mode": {
        "name": "ipython",
        "version": 3
      },
      "pygments_lexer": "ipython3",
      "nbconvert_exporter": "python",
      "file_extension": ".py"
    }
  },
  "nbformat": 4,
  "nbformat_minor": 1
}